{
 "cells": [
  {
   "cell_type": "code",
   "execution_count": 1,
   "id": "74ce99c9",
   "metadata": {},
   "outputs": [],
   "source": [
    "import torch\n",
    "from src.afib_model.resnet1d import Resnet34\n",
    "from torch.utils.data import DataLoader\n",
    "from src.afib_model.dataset import Dataset_ori\n",
    "import numpy as np"
   ]
  },
  {
   "cell_type": "code",
   "execution_count": 2,
   "id": "1a8e3927",
   "metadata": {},
   "outputs": [
    {
     "ename": "RuntimeError",
     "evalue": "version_ <= kMaxSupportedFileFormatVersion INTERNAL ASSERT FAILED at /Users/distiller/project/conda/conda-bld/pytorch_1580186068235/work/caffe2/serialize/inline_container.cc:132, please report a bug to PyTorch. Attempted to read a PyTorch file with version 3, but the maximum supported version for reading is 2. Your PyTorch installation may be too old. (init at /Users/distiller/project/conda/conda-bld/pytorch_1580186068235/work/caffe2/serialize/inline_container.cc:132)\nframe #0: c10::Error::Error(c10::SourceLocation, std::__1::basic_string<char, std::__1::char_traits<char>, std::__1::allocator<char> > const&) + 135 (0x10cde1267 in libc10.dylib)\nframe #1: caffe2::serialize::PyTorchStreamReader::init() + 2350 (0x1789be50e in libtorch.dylib)\nframe #2: caffe2::serialize::PyTorchStreamReader::PyTorchStreamReader(std::__1::basic_string<char, std::__1::char_traits<char>, std::__1::allocator<char> > const&) + 143 (0x1789bdb5f in libtorch.dylib)\nframe #3: void pybind11::cpp_function::initialize<void pybind11::detail::initimpl::constructor<std::__1::basic_string<char, std::__1::char_traits<char>, std::__1::allocator<char> > >::execute<pybind11::class_<caffe2::serialize::PyTorchStreamReader>, 0>(pybind11::class_<caffe2::serialize::PyTorchStreamReader>&)::'lambda'(pybind11::detail::value_and_holder&, std::__1::basic_string<char, std::__1::char_traits<char>, std::__1::allocator<char> >), void, pybind11::detail::value_and_holder&, std::__1::basic_string<char, std::__1::char_traits<char>, std::__1::allocator<char> >, pybind11::name, pybind11::is_method, pybind11::sibling, pybind11::detail::is_new_style_constructor>(pybind11::class_<caffe2::serialize::PyTorchStreamReader>&&, void (*)(pybind11::detail::value_and_holder&, std::__1::basic_string<char, std::__1::char_traits<char>, std::__1::allocator<char> >), pybind11::name const&, pybind11::is_method const&, pybind11::sibling const&, pybind11::detail::is_new_style_constructor const&)::'lambda'(pybind11::detail::function_call&)::operator()(pybind11::detail::function_call&) const + 147 (0x16f017d43 in libtorch_python.dylib)\nframe #4: pybind11::cpp_function::dispatcher(_object*, _object*, _object*) + 3382 (0x16ea103c6 in libtorch_python.dylib)\nframe #5: cfunction_call_varargs + 68 (0x100bb3c34 in python3.8)\nframe #6: _PyObject_MakeTpCall + 167 (0x100bb2e77 in python3.8)\nframe #7: method_vectorcall + 715 (0x100bb85db in python3.8)\nframe #8: PyVectorcall_Call + 121 (0x100bb3849 in python3.8)\nframe #9: slot_tp_init + 407 (0x100c3e0d7 in python3.8)\nframe #10: type_call + 246 (0x100c49886 in python3.8)\nframe #11: _PyObject_MakeTpCall + 167 (0x100bb2e77 in python3.8)\nframe #12: call_function + 324 (0x100d03844 in python3.8)\nframe #13: _PyEval_EvalFrameDefault + 44368 (0x100cffde0 in python3.8)\nframe #14: _PyEval_EvalCodeWithName + 558 (0x100cf31ce in python3.8)\nframe #15: _PyFunction_Vectorcall + 420 (0x100bb4844 in python3.8)\nframe #16: _PyObject_FastCallDict + 93 (0x100bb2b9d in python3.8)\nframe #17: slot_tp_init + 178 (0x100c3dff2 in python3.8)\nframe #18: type_call + 246 (0x100c49886 in python3.8)\nframe #19: _PyObject_MakeTpCall + 167 (0x100bb2e77 in python3.8)\nframe #20: call_function + 324 (0x100d03844 in python3.8)\nframe #21: _PyEval_EvalFrameDefault + 49435 (0x100d011ab in python3.8)\nframe #22: _PyEval_EvalCodeWithName + 558 (0x100cf31ce in python3.8)\nframe #23: _PyFunction_Vectorcall + 420 (0x100bb4844 in python3.8)\nframe #24: call_function + 162 (0x100d037a2 in python3.8)\nframe #25: _PyEval_EvalFrameDefault + 49601 (0x100d01251 in python3.8)\nframe #26: _PyEval_EvalCodeWithName + 558 (0x100cf31ce in python3.8)\nframe #27: builtin_exec + 362 (0x100ceda4a in python3.8)\nframe #28: cfunction_vectorcall_FASTCALL + 84 (0x100c15014 in python3.8)\nframe #29: call_function + 162 (0x100d037a2 in python3.8)\nframe #30: _PyEval_EvalFrameDefault + 49435 (0x100d011ab in python3.8)\nframe #31: gen_send_ex + 168 (0x100bcd348 in python3.8)\nframe #32: _PyEval_EvalFrameDefault + 23162 (0x100cfab0a in python3.8)\nframe #33: gen_send_ex + 168 (0x100bcd348 in python3.8)\nframe #34: _PyEval_EvalFrameDefault + 23162 (0x100cfab0a in python3.8)\nframe #35: gen_send_ex + 168 (0x100bcd348 in python3.8)\nframe #36: method_vectorcall_O + 138 (0x100bc2fba in python3.8)\nframe #37: call_function + 162 (0x100d037a2 in python3.8)\nframe #38: _PyEval_EvalFrameDefault + 44225 (0x100cffd51 in python3.8)\nframe #39: _PyFunction_Vectorcall + 242 (0x100bb4792 in python3.8)\nframe #40: call_function + 162 (0x100d037a2 in python3.8)\nframe #41: _PyEval_EvalFrameDefault + 49435 (0x100d011ab in python3.8)\nframe #42: _PyFunction_Vectorcall + 242 (0x100bb4792 in python3.8)\nframe #43: call_function + 162 (0x100d037a2 in python3.8)\nframe #44: _PyEval_EvalFrameDefault + 44225 (0x100cffd51 in python3.8)\nframe #45: _PyEval_EvalCodeWithName + 558 (0x100cf31ce in python3.8)\nframe #46: _PyFunction_Vectorcall + 420 (0x100bb4844 in python3.8)\nframe #47: method_vectorcall + 346 (0x100bb846a in python3.8)\nframe #48: PyVectorcall_Call + 121 (0x100bb3849 in python3.8)\nframe #49: _PyEval_EvalFrameDefault + 49900 (0x100d0137c in python3.8)\nframe #50: _PyEval_EvalCodeWithName + 558 (0x100cf31ce in python3.8)\nframe #51: _PyFunction_Vectorcall + 420 (0x100bb4844 in python3.8)\nframe #52: method_vectorcall + 141 (0x100bb839d in python3.8)\nframe #53: call_function + 162 (0x100d037a2 in python3.8)\nframe #54: _PyEval_EvalFrameDefault + 49601 (0x100d01251 in python3.8)\nframe #55: gen_send_ex + 168 (0x100bcd348 in python3.8)\nframe #56: _PyEval_EvalFrameDefault + 23162 (0x100cfab0a in python3.8)\nframe #57: gen_send_ex + 168 (0x100bcd348 in python3.8)\nframe #58: _PyEval_EvalFrameDefault + 23162 (0x100cfab0a in python3.8)\nframe #59: gen_send_ex + 168 (0x100bcd348 in python3.8)\nframe #60: _PyEval_EvalFrameDefault + 23162 (0x100cfab0a in python3.8)\nframe #61: gen_send_ex + 168 (0x100bcd348 in python3.8)\nframe #62: _PyEval_EvalFrameDefault + 23162 (0x100cfab0a in python3.8)\nframe #63: gen_send_ex + 168 (0x100bcd348 in python3.8)\n",
     "output_type": "error",
     "traceback": [
      "\u001b[0;31m---------------------------------------------------------------------------\u001b[0m",
      "\u001b[0;31mRuntimeError\u001b[0m                              Traceback (most recent call last)",
      "Input \u001b[0;32mIn [2]\u001b[0m, in \u001b[0;36m<module>\u001b[0;34m\u001b[0m\n\u001b[1;32m      1\u001b[0m MODEL_PATH \u001b[38;5;241m=\u001b[39m \u001b[38;5;124m'\u001b[39m\u001b[38;5;124msrc/afib_model/saved_models/epoch_30_ppglr_0.0001_lambda_0.9/PPG_best_1.pt\u001b[39m\u001b[38;5;124m'\u001b[39m\n\u001b[1;32m      2\u001b[0m PPG_model \u001b[38;5;241m=\u001b[39m Resnet34()\u001b[38;5;241m.\u001b[39mcpu()\n\u001b[0;32m----> 4\u001b[0m state_dict \u001b[38;5;241m=\u001b[39m \u001b[43mtorch\u001b[49m\u001b[38;5;241;43m.\u001b[39;49m\u001b[43mload\u001b[49m\u001b[43m(\u001b[49m\u001b[43mMODEL_PATH\u001b[49m\u001b[43m,\u001b[49m\u001b[43m \u001b[49m\u001b[43mmap_location\u001b[49m\u001b[38;5;241;43m=\u001b[39;49m\u001b[43mtorch\u001b[49m\u001b[38;5;241;43m.\u001b[39;49m\u001b[43mdevice\u001b[49m\u001b[43m(\u001b[49m\u001b[38;5;124;43m'\u001b[39;49m\u001b[38;5;124;43mcpu\u001b[39;49m\u001b[38;5;124;43m'\u001b[39;49m\u001b[43m)\u001b[49m\u001b[43m)\u001b[49m\n\u001b[1;32m      5\u001b[0m PPG_model\u001b[38;5;241m.\u001b[39mload_state_dict(state_dict)\n\u001b[1;32m      7\u001b[0m PPG_model\u001b[38;5;241m.\u001b[39meval()\n",
      "File \u001b[0;32m~/opt/anaconda3/envs/engineering/lib/python3.8/site-packages/torch/serialization.py:527\u001b[0m, in \u001b[0;36mload\u001b[0;34m(f, map_location, pickle_module, **pickle_load_args)\u001b[0m\n\u001b[1;32m    525\u001b[0m \u001b[38;5;28;01mwith\u001b[39;00m _open_file_like(f, \u001b[38;5;124m'\u001b[39m\u001b[38;5;124mrb\u001b[39m\u001b[38;5;124m'\u001b[39m) \u001b[38;5;28;01mas\u001b[39;00m opened_file:\n\u001b[1;32m    526\u001b[0m     \u001b[38;5;28;01mif\u001b[39;00m _is_zipfile(opened_file):\n\u001b[0;32m--> 527\u001b[0m         \u001b[38;5;28;01mwith\u001b[39;00m \u001b[43m_open_zipfile_reader\u001b[49m\u001b[43m(\u001b[49m\u001b[43mf\u001b[49m\u001b[43m)\u001b[49m \u001b[38;5;28;01mas\u001b[39;00m opened_zipfile:\n\u001b[1;32m    528\u001b[0m             \u001b[38;5;28;01mreturn\u001b[39;00m _load(opened_zipfile, map_location, pickle_module, \u001b[38;5;241m*\u001b[39m\u001b[38;5;241m*\u001b[39mpickle_load_args)\n\u001b[1;32m    529\u001b[0m     \u001b[38;5;28;01mreturn\u001b[39;00m _legacy_load(opened_file, map_location, pickle_module, \u001b[38;5;241m*\u001b[39m\u001b[38;5;241m*\u001b[39mpickle_load_args)\n",
      "File \u001b[0;32m~/opt/anaconda3/envs/engineering/lib/python3.8/site-packages/torch/serialization.py:224\u001b[0m, in \u001b[0;36m_open_zipfile_reader.__init__\u001b[0;34m(self, name_or_buffer)\u001b[0m\n\u001b[1;32m    223\u001b[0m \u001b[38;5;28;01mdef\u001b[39;00m \u001b[38;5;21m__init__\u001b[39m(\u001b[38;5;28mself\u001b[39m, name_or_buffer):\n\u001b[0;32m--> 224\u001b[0m     \u001b[38;5;28msuper\u001b[39m(_open_zipfile_reader, \u001b[38;5;28mself\u001b[39m)\u001b[38;5;241m.\u001b[39m\u001b[38;5;21m__init__\u001b[39m(\u001b[43mtorch\u001b[49m\u001b[38;5;241;43m.\u001b[39;49m\u001b[43m_C\u001b[49m\u001b[38;5;241;43m.\u001b[39;49m\u001b[43mPyTorchFileReader\u001b[49m\u001b[43m(\u001b[49m\u001b[43mname_or_buffer\u001b[49m\u001b[43m)\u001b[49m)\n",
      "\u001b[0;31mRuntimeError\u001b[0m: version_ <= kMaxSupportedFileFormatVersion INTERNAL ASSERT FAILED at /Users/distiller/project/conda/conda-bld/pytorch_1580186068235/work/caffe2/serialize/inline_container.cc:132, please report a bug to PyTorch. Attempted to read a PyTorch file with version 3, but the maximum supported version for reading is 2. Your PyTorch installation may be too old. (init at /Users/distiller/project/conda/conda-bld/pytorch_1580186068235/work/caffe2/serialize/inline_container.cc:132)\nframe #0: c10::Error::Error(c10::SourceLocation, std::__1::basic_string<char, std::__1::char_traits<char>, std::__1::allocator<char> > const&) + 135 (0x10cde1267 in libc10.dylib)\nframe #1: caffe2::serialize::PyTorchStreamReader::init() + 2350 (0x1789be50e in libtorch.dylib)\nframe #2: caffe2::serialize::PyTorchStreamReader::PyTorchStreamReader(std::__1::basic_string<char, std::__1::char_traits<char>, std::__1::allocator<char> > const&) + 143 (0x1789bdb5f in libtorch.dylib)\nframe #3: void pybind11::cpp_function::initialize<void pybind11::detail::initimpl::constructor<std::__1::basic_string<char, std::__1::char_traits<char>, std::__1::allocator<char> > >::execute<pybind11::class_<caffe2::serialize::PyTorchStreamReader>, 0>(pybind11::class_<caffe2::serialize::PyTorchStreamReader>&)::'lambda'(pybind11::detail::value_and_holder&, std::__1::basic_string<char, std::__1::char_traits<char>, std::__1::allocator<char> >), void, pybind11::detail::value_and_holder&, std::__1::basic_string<char, std::__1::char_traits<char>, std::__1::allocator<char> >, pybind11::name, pybind11::is_method, pybind11::sibling, pybind11::detail::is_new_style_constructor>(pybind11::class_<caffe2::serialize::PyTorchStreamReader>&&, void (*)(pybind11::detail::value_and_holder&, std::__1::basic_string<char, std::__1::char_traits<char>, std::__1::allocator<char> >), pybind11::name const&, pybind11::is_method const&, pybind11::sibling const&, pybind11::detail::is_new_style_constructor const&)::'lambda'(pybind11::detail::function_call&)::operator()(pybind11::detail::function_call&) const + 147 (0x16f017d43 in libtorch_python.dylib)\nframe #4: pybind11::cpp_function::dispatcher(_object*, _object*, _object*) + 3382 (0x16ea103c6 in libtorch_python.dylib)\nframe #5: cfunction_call_varargs + 68 (0x100bb3c34 in python3.8)\nframe #6: _PyObject_MakeTpCall + 167 (0x100bb2e77 in python3.8)\nframe #7: method_vectorcall + 715 (0x100bb85db in python3.8)\nframe #8: PyVectorcall_Call + 121 (0x100bb3849 in python3.8)\nframe #9: slot_tp_init + 407 (0x100c3e0d7 in python3.8)\nframe #10: type_call + 246 (0x100c49886 in python3.8)\nframe #11: _PyObject_MakeTpCall + 167 (0x100bb2e77 in python3.8)\nframe #12: call_function + 324 (0x100d03844 in python3.8)\nframe #13: _PyEval_EvalFrameDefault + 44368 (0x100cffde0 in python3.8)\nframe #14: _PyEval_EvalCodeWithName + 558 (0x100cf31ce in python3.8)\nframe #15: _PyFunction_Vectorcall + 420 (0x100bb4844 in python3.8)\nframe #16: _PyObject_FastCallDict + 93 (0x100bb2b9d in python3.8)\nframe #17: slot_tp_init + 178 (0x100c3dff2 in python3.8)\nframe #18: type_call + 246 (0x100c49886 in python3.8)\nframe #19: _PyObject_MakeTpCall + 167 (0x100bb2e77 in python3.8)\nframe #20: call_function + 324 (0x100d03844 in python3.8)\nframe #21: _PyEval_EvalFrameDefault + 49435 (0x100d011ab in python3.8)\nframe #22: _PyEval_EvalCodeWithName + 558 (0x100cf31ce in python3.8)\nframe #23: _PyFunction_Vectorcall + 420 (0x100bb4844 in python3.8)\nframe #24: call_function + 162 (0x100d037a2 in python3.8)\nframe #25: _PyEval_EvalFrameDefault + 49601 (0x100d01251 in python3.8)\nframe #26: _PyEval_EvalCodeWithName + 558 (0x100cf31ce in python3.8)\nframe #27: builtin_exec + 362 (0x100ceda4a in python3.8)\nframe #28: cfunction_vectorcall_FASTCALL + 84 (0x100c15014 in python3.8)\nframe #29: call_function + 162 (0x100d037a2 in python3.8)\nframe #30: _PyEval_EvalFrameDefault + 49435 (0x100d011ab in python3.8)\nframe #31: gen_send_ex + 168 (0x100bcd348 in python3.8)\nframe #32: _PyEval_EvalFrameDefault + 23162 (0x100cfab0a in python3.8)\nframe #33: gen_send_ex + 168 (0x100bcd348 in python3.8)\nframe #34: _PyEval_EvalFrameDefault + 23162 (0x100cfab0a in python3.8)\nframe #35: gen_send_ex + 168 (0x100bcd348 in python3.8)\nframe #36: method_vectorcall_O + 138 (0x100bc2fba in python3.8)\nframe #37: call_function + 162 (0x100d037a2 in python3.8)\nframe #38: _PyEval_EvalFrameDefault + 44225 (0x100cffd51 in python3.8)\nframe #39: _PyFunction_Vectorcall + 242 (0x100bb4792 in python3.8)\nframe #40: call_function + 162 (0x100d037a2 in python3.8)\nframe #41: _PyEval_EvalFrameDefault + 49435 (0x100d011ab in python3.8)\nframe #42: _PyFunction_Vectorcall + 242 (0x100bb4792 in python3.8)\nframe #43: call_function + 162 (0x100d037a2 in python3.8)\nframe #44: _PyEval_EvalFrameDefault + 44225 (0x100cffd51 in python3.8)\nframe #45: _PyEval_EvalCodeWithName + 558 (0x100cf31ce in python3.8)\nframe #46: _PyFunction_Vectorcall + 420 (0x100bb4844 in python3.8)\nframe #47: method_vectorcall + 346 (0x100bb846a in python3.8)\nframe #48: PyVectorcall_Call + 121 (0x100bb3849 in python3.8)\nframe #49: _PyEval_EvalFrameDefault + 49900 (0x100d0137c in python3.8)\nframe #50: _PyEval_EvalCodeWithName + 558 (0x100cf31ce in python3.8)\nframe #51: _PyFunction_Vectorcall + 420 (0x100bb4844 in python3.8)\nframe #52: method_vectorcall + 141 (0x100bb839d in python3.8)\nframe #53: call_function + 162 (0x100d037a2 in python3.8)\nframe #54: _PyEval_EvalFrameDefault + 49601 (0x100d01251 in python3.8)\nframe #55: gen_send_ex + 168 (0x100bcd348 in python3.8)\nframe #56: _PyEval_EvalFrameDefault + 23162 (0x100cfab0a in python3.8)\nframe #57: gen_send_ex + 168 (0x100bcd348 in python3.8)\nframe #58: _PyEval_EvalFrameDefault + 23162 (0x100cfab0a in python3.8)\nframe #59: gen_send_ex + 168 (0x100bcd348 in python3.8)\nframe #60: _PyEval_EvalFrameDefault + 23162 (0x100cfab0a in python3.8)\nframe #61: gen_send_ex + 168 (0x100bcd348 in python3.8)\nframe #62: _PyEval_EvalFrameDefault + 23162 (0x100cfab0a in python3.8)\nframe #63: gen_send_ex + 168 (0x100bcd348 in python3.8)\n"
     ]
    }
   ],
   "source": [
    "MODEL_PATH = 'src/afib_model/saved_models/epoch_30_ppglr_0.0001_lambda_0.9/PPG_best_1.pt'\n",
    "PPG_model = Resnet34().cpu()\n",
    "\n",
    "state_dict = torch.load(MODEL_PATH, map_location=torch.device('cpu'))\n",
    "PPG_model.load_state_dict(state_dict)\n",
    "\n",
    "PPG_model.eval()\n",
    "dummy_input = torch.randn(1, 1, 2400).cpu()\n",
    "data = np.loadtxt('./test2.csv', delimiter=',', dtype='float32')\n",
    "dataset = Dataset_ori(data)\n",
    "dataLoader = DataLoader(dataset, batch_size=1, shuffle=False, num_workers=0)\n",
    "\n",
    "for (PPG) in dataLoader:\n",
    "    torch.onnx.export(PPG_model,\n",
    "                      PPG,\n",
    "                      'PPG_model.onnx',\n",
    "                      input_names=['input'],\n",
    "                      output_names=['PPG_feature', 'PPG_out'],\n",
    "                      export_params=True)\n",
    "    break\n"
   ]
  },
  {
   "cell_type": "code",
   "execution_count": null,
   "id": "e0db6d2e",
   "metadata": {},
   "outputs": [],
   "source": []
  }
 ],
 "metadata": {
  "kernelspec": {
   "display_name": "Python 3 (engineering)",
   "language": "python",
   "name": "engineering"
  },
  "language_info": {
   "codemirror_mode": {
    "name": "ipython",
    "version": 3
   },
   "file_extension": ".py",
   "mimetype": "text/x-python",
   "name": "python",
   "nbconvert_exporter": "python",
   "pygments_lexer": "ipython3",
   "version": "3.8.12"
  }
 },
 "nbformat": 4,
 "nbformat_minor": 5
}
